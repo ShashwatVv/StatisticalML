{
 "cells": [
  {
   "cell_type": "markdown",
   "id": "22115659",
   "metadata": {},
   "source": [
    "### Shashwat Vaibhav \n",
    "#### MT21082\n",
    "\n",
    "### `Assignment 2`\n",
    " \n",
    "## This file contains codes specific for both the questions 1 and question 3"
   ]
  },
  {
   "cell_type": "code",
   "execution_count": 85,
   "id": "758c1e7c",
   "metadata": {},
   "outputs": [
    {
     "name": "stdout",
     "output_type": "stream",
     "text": [
      "Libraries have been imported\n"
     ]
    }
   ],
   "source": [
    "## importing libraries\n",
    "import numpy as np\n",
    "import pandas as pd\n",
    "from scipy import stats\n",
    "import matplotlib.pyplot as plt\n",
    "from sklearn.model_selection import train_test_split\n",
    "from numpy.linalg import eig as eigen\n",
    "\n",
    "print(\"Libraries have been imported\")"
   ]
  },
  {
   "cell_type": "code",
   "execution_count": 86,
   "id": "0405afa6",
   "metadata": {},
   "outputs": [
    {
     "data": {
      "text/plain": [
       "array([ 2.71828183,  7.3890561 , 20.08553692])"
      ]
     },
     "execution_count": 86,
     "metadata": {},
     "output_type": "execute_result"
    }
   ],
   "source": [
    "##just for the verification sake\n",
    "a = [1, 2, 3]\n",
    "np.exp(a)"
   ]
  },
  {
   "cell_type": "markdown",
   "id": "3d049641",
   "metadata": {},
   "source": [
    "## Q1"
   ]
  },
  {
   "cell_type": "markdown",
   "id": "a7bd2629",
   "metadata": {},
   "source": [
    "### Q1.a --> Generating samples"
   ]
  },
  {
   "cell_type": "code",
   "execution_count": 87,
   "id": "43f5eca9",
   "metadata": {},
   "outputs": [
    {
     "name": "stdout",
     "output_type": "stream",
     "text": [
      "Samples have been created!!\n"
     ]
    }
   ],
   "source": [
    "##Bernoulli --> binomial for n=1 is same as the bernoulli distribution\n",
    "shape = (100, 2)\n",
    "##As we have to create 100 samples each for the two classes consiting of two dimensions\n",
    "\n",
    "sampleA = np.random.binomial(1, [0.5, 0.8], shape)\n",
    "sampleB = np.random.binomial(1, [0.9, 0.2], shape)\n",
    "\n",
    "print(\"Samples have been created!!\")"
   ]
  },
  {
   "cell_type": "code",
   "execution_count": 88,
   "id": "a6563bcd",
   "metadata": {},
   "outputs": [],
   "source": [
    "labelA = np.ones(100, int)\n",
    "labelB = 2*np.ones(100, int)\n",
    "\n",
    "DFA = pd.DataFrame(data = sampleA, columns=[\"d1\", \"d2\"])\n",
    "DFB = pd.DataFrame(data = sampleB, columns = [\"d1\", \"d2\"])"
   ]
  },
  {
   "cell_type": "code",
   "execution_count": 89,
   "id": "a19aced9",
   "metadata": {},
   "outputs": [],
   "source": [
    "## LET'S add label 1 and 2, to both the samples A and B respectively\n",
    "DFA['Label'] = labelA\n",
    "DFB['Label'] = labelB"
   ]
  },
  {
   "cell_type": "code",
   "execution_count": 90,
   "id": "702f0380",
   "metadata": {},
   "outputs": [
    {
     "data": {
      "text/html": [
       "<div>\n",
       "<style scoped>\n",
       "    .dataframe tbody tr th:only-of-type {\n",
       "        vertical-align: middle;\n",
       "    }\n",
       "\n",
       "    .dataframe tbody tr th {\n",
       "        vertical-align: top;\n",
       "    }\n",
       "\n",
       "    .dataframe thead th {\n",
       "        text-align: right;\n",
       "    }\n",
       "</style>\n",
       "<table border=\"1\" class=\"dataframe\">\n",
       "  <thead>\n",
       "    <tr style=\"text-align: right;\">\n",
       "      <th></th>\n",
       "      <th>d1</th>\n",
       "      <th>d2</th>\n",
       "      <th>Label</th>\n",
       "    </tr>\n",
       "  </thead>\n",
       "  <tbody>\n",
       "    <tr>\n",
       "      <th>0</th>\n",
       "      <td>1</td>\n",
       "      <td>1</td>\n",
       "      <td>1</td>\n",
       "    </tr>\n",
       "    <tr>\n",
       "      <th>1</th>\n",
       "      <td>1</td>\n",
       "      <td>1</td>\n",
       "      <td>1</td>\n",
       "    </tr>\n",
       "    <tr>\n",
       "      <th>2</th>\n",
       "      <td>1</td>\n",
       "      <td>1</td>\n",
       "      <td>1</td>\n",
       "    </tr>\n",
       "    <tr>\n",
       "      <th>3</th>\n",
       "      <td>0</td>\n",
       "      <td>1</td>\n",
       "      <td>1</td>\n",
       "    </tr>\n",
       "    <tr>\n",
       "      <th>4</th>\n",
       "      <td>0</td>\n",
       "      <td>1</td>\n",
       "      <td>1</td>\n",
       "    </tr>\n",
       "  </tbody>\n",
       "</table>\n",
       "</div>"
      ],
      "text/plain": [
       "   d1  d2  Label\n",
       "0   1   1      1\n",
       "1   1   1      1\n",
       "2   1   1      1\n",
       "3   0   1      1\n",
       "4   0   1      1"
      ]
     },
     "execution_count": 90,
     "metadata": {},
     "output_type": "execute_result"
    }
   ],
   "source": [
    "DFA.head()"
   ]
  },
  {
   "cell_type": "code",
   "execution_count": 91,
   "id": "90bbe3c5",
   "metadata": {},
   "outputs": [
    {
     "data": {
      "text/html": [
       "<div>\n",
       "<style scoped>\n",
       "    .dataframe tbody tr th:only-of-type {\n",
       "        vertical-align: middle;\n",
       "    }\n",
       "\n",
       "    .dataframe tbody tr th {\n",
       "        vertical-align: top;\n",
       "    }\n",
       "\n",
       "    .dataframe thead th {\n",
       "        text-align: right;\n",
       "    }\n",
       "</style>\n",
       "<table border=\"1\" class=\"dataframe\">\n",
       "  <thead>\n",
       "    <tr style=\"text-align: right;\">\n",
       "      <th></th>\n",
       "      <th>d1</th>\n",
       "      <th>d2</th>\n",
       "      <th>Label</th>\n",
       "    </tr>\n",
       "  </thead>\n",
       "  <tbody>\n",
       "    <tr>\n",
       "      <th>0</th>\n",
       "      <td>1</td>\n",
       "      <td>1</td>\n",
       "      <td>2</td>\n",
       "    </tr>\n",
       "    <tr>\n",
       "      <th>1</th>\n",
       "      <td>1</td>\n",
       "      <td>0</td>\n",
       "      <td>2</td>\n",
       "    </tr>\n",
       "    <tr>\n",
       "      <th>2</th>\n",
       "      <td>1</td>\n",
       "      <td>0</td>\n",
       "      <td>2</td>\n",
       "    </tr>\n",
       "    <tr>\n",
       "      <th>3</th>\n",
       "      <td>1</td>\n",
       "      <td>0</td>\n",
       "      <td>2</td>\n",
       "    </tr>\n",
       "    <tr>\n",
       "      <th>4</th>\n",
       "      <td>1</td>\n",
       "      <td>0</td>\n",
       "      <td>2</td>\n",
       "    </tr>\n",
       "  </tbody>\n",
       "</table>\n",
       "</div>"
      ],
      "text/plain": [
       "   d1  d2  Label\n",
       "0   1   1      2\n",
       "1   1   0      2\n",
       "2   1   0      2\n",
       "3   1   0      2\n",
       "4   1   0      2"
      ]
     },
     "execution_count": 91,
     "metadata": {},
     "output_type": "execute_result"
    }
   ],
   "source": [
    "DFB.head()"
   ]
  },
  {
   "cell_type": "markdown",
   "id": "bff5c7bc",
   "metadata": {},
   "source": [
    "$\\hat{\\theta_{j_{MLE}}} = \\frac{\\sum x_{ij}}{N}$\n",
    "\n",
    "`i varies from 1 to N, i.e, 0 to N-1`"
   ]
  },
  {
   "cell_type": "markdown",
   "id": "9caaf091",
   "metadata": {},
   "source": [
    "### Generic MLE function "
   ]
  },
  {
   "cell_type": "code",
   "execution_count": 92,
   "id": "af279315",
   "metadata": {},
   "outputs": [],
   "source": [
    "## Let's create a generic function that returns MLE\n",
    "## Theory has been described in the theory file attached.\n",
    "\n",
    "def mle_estimate(DF, col,  n):\n",
    "    s = 0\n",
    "    for x in DF[col][:n]:\n",
    "        s = s + x\n",
    "    return s/n\n"
   ]
  },
  {
   "cell_type": "markdown",
   "id": "1c0f5256",
   "metadata": {},
   "source": [
    "### Q1. b \n",
    "### Let's do the tasks for sampleA\n",
    "#### Split into train and test\n",
    "#### And then plot MLE vs n on train data"
   ]
  },
  {
   "cell_type": "code",
   "execution_count": 93,
   "id": "62cad97a",
   "metadata": {},
   "outputs": [],
   "source": [
    "## Dataframe DFA has already been created as DFA\n",
    "X = DFA.drop('Label', axis=1)\n",
    "Y = DFA['Label']"
   ]
  },
  {
   "cell_type": "code",
   "execution_count": 94,
   "id": "29bb5f36",
   "metadata": {},
   "outputs": [],
   "source": [
    "xtrain, xtest, ytrain, ytest = train_test_split(X, Y, train_size=0.5, random_state=21)"
   ]
  },
  {
   "cell_type": "code",
   "execution_count": 95,
   "id": "28174ec9",
   "metadata": {},
   "outputs": [
    {
     "name": "stdout",
     "output_type": "stream",
     "text": [
      "train and test sets for class A, with label 1 has been created with size of train sample = 50\n"
     ]
    }
   ],
   "source": [
    "print(\"train and test sets for class A, with label 1 has been created with size of train sample =\", len(xtrain))"
   ]
  },
  {
   "cell_type": "code",
   "execution_count": 96,
   "id": "7dfaf75b",
   "metadata": {},
   "outputs": [],
   "source": [
    "## Let's store the MLE for sample size from 1 to n\n",
    "## for theta_1\n",
    "x_vals = np.arange(1, 51)\n",
    "\n",
    "list_of_mle_d1 = []\n",
    "\n",
    "for n in x_vals:\n",
    "    list_of_mle_d1.append(mle_estimate(xtrain, 'd1', n))"
   ]
  },
  {
   "cell_type": "code",
   "execution_count": 97,
   "id": "61477b48",
   "metadata": {},
   "outputs": [
    {
     "data": {
      "text/plain": [
       "<matplotlib.legend.Legend at 0x229965a4eb0>"
      ]
     },
     "execution_count": 97,
     "metadata": {},
     "output_type": "execute_result"
    },
    {
     "data": {
      "image/png": "[encoded data removed]",
      "text/plain": [
       "<Figure size 432x288 with 1 Axes>"
      ]
     },
     "metadata": {
      "needs_background": "light"
     },
     "output_type": "display_data"
    }
   ],
   "source": [
    "## plotting mle vs n for 1st dimension , d1 , for the training set of sample A\n",
    "\n",
    "size = (10,6)\n",
    "title = 'MLE(Theta 1) vs n: Class A'\n",
    "\n",
    "plt.plot(x_vals, list_of_mle_d1, 'r', label = 'MLE')\n",
    "plt.title(title)\n",
    "plt.legend()"
   ]
  },
  {
   "cell_type": "code",
   "execution_count": 98,
   "id": "8beac9a8",
   "metadata": {},
   "outputs": [
    {
     "data": {
      "text/plain": [
       "<matplotlib.legend.Legend at 0x22996606c40>"
      ]
     },
     "execution_count": 98,
     "metadata": {},
     "output_type": "execute_result"
    },
    {
     "data": {
      "image/png": "[encoded data removed]",
      "text/plain": [
       "<Figure size 432x288 with 1 Axes>"
      ]
     },
     "metadata": {
      "needs_background": "light"
     },
     "output_type": "display_data"
    }
   ],
   "source": [
    "## MLE plot for theta_2 vs n\n",
    "list_of_mle_d2 = []\n",
    "\n",
    "for n in x_vals:\n",
    "    list_of_mle_d2.append(mle_estimate(xtrain, 'd2', n))\n",
    "    \n",
    "## plotting mle vs n for 1st dimension , d2 , for the training set of sample A\n",
    "\n",
    "size = (10,6)\n",
    "title = 'MLE(Theta 2) vs n: Class A'\n",
    "\n",
    "plt.plot(x_vals, list_of_mle_d2, 'b', label = 'MLE')\n",
    "plt.title(title)\n",
    "plt.legend()"
   ]
  },
  {
   "cell_type": "markdown",
   "id": "66754e46",
   "metadata": {},
   "source": [
    "### Q1. c \n",
    "### Let's do the tasks for sampleB\n",
    "#### Split into train and test\n",
    "#### And then plot MLE vs n on train data"
   ]
  },
  {
   "cell_type": "code",
   "execution_count": 99,
   "id": "34eff309",
   "metadata": {},
   "outputs": [
    {
     "name": "stdout",
     "output_type": "stream",
     "text": [
      "train and test sets for class B, with label 2 has been created with size of train sample = 50\n"
     ]
    },
    {
     "data": {
      "text/plain": [
       "<matplotlib.legend.Legend at 0x22996669910>"
      ]
     },
     "execution_count": 99,
     "metadata": {},
     "output_type": "execute_result"
    },
    {
     "data": {
      "image/png": "[encoded data removed]",
      "text/plain": [
       "<Figure size 432x288 with 1 Axes>"
      ]
     },
     "metadata": {
      "needs_background": "light"
     },
     "output_type": "display_data"
    }
   ],
   "source": [
    "## DFB for class B samples already been created\n",
    "\n",
    "Xb = DFB.drop('Label', axis=1)\n",
    "Yb = DFB['Label']\n",
    "# splitting\n",
    "\n",
    "xbtrain, xbtest, ybtrain, ybtest = train_test_split(Xb, Yb, train_size=0.5, random_state=21)\n",
    "print(\"train and test sets for class B, with label 2 has been created with size of train sample =\", len(xtrain))\n",
    "\n",
    "## MLE plot for theta_2 vs n\n",
    "list_of_mle_d1 = []\n",
    "\n",
    "for n in x_vals:\n",
    "    list_of_mle_d1.append(mle_estimate(xbtrain, 'd1', n))\n",
    "    \n",
    "## plotting mle vs n for 1st dimension , d2 , for the training set of sample A\n",
    "\n",
    "size = (10,6)\n",
    "title = 'MLE(Theta 1) vs n : Class B'\n",
    "\n",
    "plt.plot(x_vals, list_of_mle_d1, 'r', label = 'MLE')\n",
    "plt.title(title)\n",
    "plt.legend()"
   ]
  },
  {
   "cell_type": "code",
   "execution_count": 100,
   "id": "f4d59b32",
   "metadata": {},
   "outputs": [
    {
     "data": {
      "text/plain": [
       "<matplotlib.legend.Legend at 0x229966ed400>"
      ]
     },
     "execution_count": 100,
     "metadata": {},
     "output_type": "execute_result"
    },
    {
     "data": {
      "image/png": "[encoded data removed]",
      "text/plain": [
       "<Figure size 432x288 with 1 Axes>"
      ]
     },
     "metadata": {
      "needs_background": "light"
     },
     "output_type": "display_data"
    }
   ],
   "source": [
    "list_of_mle_d2 = []\n",
    "\n",
    "for n in x_vals:\n",
    "    list_of_mle_d2.append(mle_estimate(xbtrain, 'd2', n))\n",
    "    \n",
    "## plotting mle vs n for 1st dimension , d2 , for the training set of sample A\n",
    "\n",
    "size = (10,6)\n",
    "title = 'MLE(Theta 2) vs n : Class B'\n",
    "\n",
    "plt.plot(x_vals, list_of_mle_d2, 'r', label = 'MLE')\n",
    "plt.title(title)\n",
    "plt.legend()"
   ]
  },
  {
   "cell_type": "markdown",
   "id": "c96e6ad6",
   "metadata": {},
   "source": [
    "### Q1.d  plotting training samples"
   ]
  },
  {
   "cell_type": "code",
   "execution_count": 101,
   "id": "15965ea1",
   "metadata": {
    "scrolled": true
   },
   "outputs": [
    {
     "data": {
      "text/plain": [
       "<matplotlib.collections.PathCollection at 0x22996756280>"
      ]
     },
     "execution_count": 101,
     "metadata": {},
     "output_type": "execute_result"
    },
    {
     "data": {
      "image/png": "[encoded data removed]",
      "text/plain": [
       "<Figure size 432x288 with 1 Axes>"
      ]
     },
     "metadata": {
      "needs_background": "light"
     },
     "output_type": "display_data"
    }
   ],
   "source": [
    "plt.scatter(x_vals, xtrain['d1'])\n",
    "plt.scatter(x_vals, xtrain['d2'])"
   ]
  },
  {
   "cell_type": "code",
   "execution_count": 102,
   "id": "8bee644f",
   "metadata": {
    "scrolled": false
   },
   "outputs": [
    {
     "data": {
      "text/plain": [
       "<matplotlib.collections.PathCollection at 0x229967bc8e0>"
      ]
     },
     "execution_count": 102,
     "metadata": {},
     "output_type": "execute_result"
    },
    {
     "data": {
      "image/png": "[encoded data removed]",
      "text/plain": [
       "<Figure size 432x288 with 1 Axes>"
      ]
     },
     "metadata": {
      "needs_background": "light"
     },
     "output_type": "display_data"
    }
   ],
   "source": [
    "plt.scatter(xtrain['d1'], xtrain['d2'])"
   ]
  },
  {
   "cell_type": "code",
   "execution_count": 103,
   "id": "c5301e13",
   "metadata": {},
   "outputs": [
    {
     "data": {
      "text/plain": [
       "<matplotlib.collections.PathCollection at 0x22996806c10>"
      ]
     },
     "execution_count": 103,
     "metadata": {},
     "output_type": "execute_result"
    },
    {
     "data": {
      "image/png": "[encoded data removed]",
      "text/plain": [
       "<Figure size 432x288 with 1 Axes>"
      ]
     },
     "metadata": {
      "needs_background": "light"
     },
     "output_type": "display_data"
    }
   ],
   "source": [
    "plt.scatter(xbtrain['d1'], xbtrain['d2'])"
   ]
  },
  {
   "cell_type": "markdown",
   "id": "7081f320",
   "metadata": {},
   "source": [
    "### Q1.e Creating a generic discriminant function for the classification purpose."
   ]
  },
  {
   "cell_type": "code",
   "execution_count": 104,
   "id": "5441d4bc",
   "metadata": {},
   "outputs": [
    {
     "name": "stdout",
     "output_type": "stream",
     "text": [
      "0.38\n",
      "0.82\n",
      "0.88\n",
      "0.22\n"
     ]
    }
   ],
   "source": [
    "##for class A we have train and test splits as xtrain, xtest, ytrain, ytest\n",
    "##for class B we have train and test splits as xbtrain, xbtest, ybtrain, ybtest\n",
    "## DFA and DFB --> dataframes for class A and B\n",
    "\n",
    "## again calculating mle estimate for thetaA and thetaB from our generic mle function\n",
    "## thetaA_1 and thetaA_2\n",
    "## thetaB_1 and thetaB_2\n",
    "\n",
    "thetaA_1 = mle_estimate(xtrain,'d1', 50)\n",
    "print(thetaA_1)\n",
    "thetaA_2 = mle_estimate(xtrain,'d2', 50)\n",
    "print(thetaA_2)\n",
    "thetaB_1 = mle_estimate(xbtrain,'d1', 50)\n",
    "print(thetaB_1)\n",
    "thetaB_2 = mle_estimate(xbtrain,'d2', 50)\n",
    "print(thetaB_2)"
   ]
  },
  {
   "cell_type": "code",
   "execution_count": 133,
   "id": "d20ca881",
   "metadata": {},
   "outputs": [
    {
     "name": "stdout",
     "output_type": "stream",
     "text": [
      "[0.38 0.82]\n",
      "\n",
      "[0.88 0.22]\n"
     ]
    }
   ],
   "source": [
    "thetaA = np.array([thetaA_1,thetaA_2])\n",
    "thetaB = np.array([thetaB_1,thetaB_2])\n",
    "\n",
    "print(thetaA)\n",
    "print(\"\")\n",
    "print(thetaB)"
   ]
  },
  {
   "cell_type": "code",
   "execution_count": 126,
   "id": "96f9d888",
   "metadata": {},
   "outputs": [],
   "source": [
    "## let's define now the discriminant\n",
    "def discriminant(test_instance, thetaA, thetaB):\n",
    "    p =  np.dot(test_instance.reshape(2,1).T , np.log(thetaA)) \n",
    "    q = np.dot((1-test_instance).reshape(2,1).T , np.log(1-thetaA))\n",
    "    r = np.dot(test_instance.reshape(2,1).T , np.log(thetaB)) \n",
    "    s = np.dot((1-test_instance).reshape(2,1).T , np.log(1-thetaB))\n",
    "    \n",
    "    return ((+q)/(r+s))[0]\n"
   ]
  },
  {
   "cell_type": "code",
   "execution_count": 107,
   "id": "da67ba2c",
   "metadata": {},
   "outputs": [],
   "source": [
    "#for instance in xtest.values:\n",
    " #   print(instance)"
   ]
  },
  {
   "cell_type": "code",
   "execution_count": 127,
   "id": "8876111e",
   "metadata": {},
   "outputs": [],
   "source": [
    "##we have test and train instances as:\n",
    "## xtest, ytest --> class A\n",
    "## xbtest, ybtest --> class B\n",
    "\n",
    "pred_A = []\n",
    "pred_B = []\n",
    "\n",
    "\n",
    "for instance in xtest.values:\n",
    "    i = np.array(instance)\n",
    "    if discriminant(i, thetaA, thetaB)> 0:\n",
    "        pred_A.append(1)\n",
    "    else:\n",
    "        pred_A.append(2)\n",
    "\n",
    "for instance in xbtest.values:\n",
    "    i=np.array(instance)\n",
    "    if discriminant(i, thetaA, thetaB)>0:\n",
    "        pred_B.append(2)\n",
    "    else:\n",
    "        pred_B.append(1)\n"
   ]
  },
  {
   "cell_type": "code",
   "execution_count": 128,
   "id": "8626a277",
   "metadata": {},
   "outputs": [],
   "source": [
    "def accuracy(ypred, ytest):\n",
    "    count=0\n",
    "    total = len(ytest)\n",
    "    for i in range(len(ytest)):\n",
    "        if ytest[i]==ypred[i]:\n",
    "            count +=1\n",
    "    return count/total"
   ]
  },
  {
   "cell_type": "code",
   "execution_count": 131,
   "id": "083471bd",
   "metadata": {},
   "outputs": [
    {
     "name": "stdout",
     "output_type": "stream",
     "text": [
      "Accuracy for class A test samples: 0.64\n",
      "Accuracy for class B test samples: 0.76\n"
     ]
    }
   ],
   "source": [
    "\n",
    "print(\"Accuracy for class A test samples:\", accuracy(np.array(pred_A), np.array(ytest)))\n",
    "\n",
    "print(\"Accuracy for class B test samples:\", accuracy(np.array(pred_B), np.array(ybtest)))"
   ]
  },
  {
   "cell_type": "markdown",
   "id": "4ebd3415",
   "metadata": {},
   "source": [
    "## Q3 PCA"
   ]
  },
  {
   "cell_type": "markdown",
   "id": "ac46a412",
   "metadata": {},
   "source": [
    "### Q3.C "
   ]
  },
  {
   "cell_type": "code",
   "execution_count": 111,
   "id": "70eddeea",
   "metadata": {},
   "outputs": [],
   "source": [
    "#Creating a generic function to centralize data\n",
    "def centralize(matrix:np.ndarray)->np.ndarray:\n",
    "    ##finding mean\n",
    "    column_wise=1\n",
    "    mean_vec =  np.mean(matrix.transpose(), axis = column_wise)\n",
    "    centralized_mat = matrix - mean_vec\n",
    "    \n",
    "    return centralized_mat\n",
    "    "
   ]
  },
  {
   "cell_type": "code",
   "execution_count": 112,
   "id": "dd6c3be8",
   "metadata": {},
   "outputs": [
    {
     "name": "stdout",
     "output_type": "stream",
     "text": [
      "The eigenVectors are:\n",
      " [[-0.92847669 -0.37139068]\n",
      " [ 0.37139068 -0.92847669]]\n"
     ]
    }
   ],
   "source": [
    "d2_list= [[3,2],[5,7]]\n",
    "X = np.array(d2_list)\n",
    "##created the matrix itself\n",
    "## now cetralizing\n",
    "Xcent = centralize(X)\n",
    "cov_mat = np.cov(Xcent.transpose())\n",
    "\n",
    "eigen_val_vec = eigen(cov_mat)\n",
    "##unpacking now into values and vectors\n",
    "egval, egvec = eigen_val_vec\n",
    "\n",
    "print(\"The eigenVectors are:\\n\", egvec)"
   ]
  },
  {
   "cell_type": "code",
   "execution_count": 113,
   "id": "27732aae",
   "metadata": {},
   "outputs": [
    {
     "name": "stdout",
     "output_type": "stream",
     "text": [
      "[[ 0.55708601  1.39271504]\n",
      " [-1.29986737 -3.24966842]]\n"
     ]
    }
   ],
   "source": [
    "## Computing the encoding, Y = U' Centralized(X), where U is the eigen vectors\n",
    "\n",
    "Y = np.dot(egvec, Xcent)\n",
    "print(Y)"
   ]
  },
  {
   "cell_type": "code",
   "execution_count": 114,
   "id": "2e8c08f7",
   "metadata": {},
   "outputs": [
    {
     "name": "stdout",
     "output_type": "stream",
     "text": [
      "Mean Vector is:\n",
      "[4.  4.5]\n"
     ]
    },
    {
     "data": {
      "text/plain": [
       "array([[3.96551724, 4.4137931 ],\n",
       "       [5.4137931 , 8.03448276]])"
      ]
     },
     "execution_count": 114,
     "metadata": {},
     "output_type": "execute_result"
    }
   ],
   "source": [
    "## computing UY + mean(X)\n",
    "mean_vec =  np.mean(X.transpose(), axis = 1)\n",
    "print(\"Mean Vector is:\")\n",
    "print(mean_vec)\n",
    "\n",
    "##matrix multiplication with encoding Y\n",
    "UY = np.matmul(egvec, Y)\n",
    "P= UY + mean_vec\n",
    "P"
   ]
  },
  {
   "cell_type": "code",
   "execution_count": 115,
   "id": "90247e6c",
   "metadata": {},
   "outputs": [
    {
     "name": "stdout",
     "output_type": "stream",
     "text": [
      "MSE: 2.0000000000000004\n",
      "rmse: 1.4142135623730951\n"
     ]
    }
   ],
   "source": [
    "##MSE and rmse calculation\n",
    "esq = 0\n",
    "for r in range(len(P)):\n",
    "    for c in range(len(P)):\n",
    "        e = P[r][c]-X[r][c]\n",
    "        esq += e**2\n",
    "print(\"MSE:\", esq/4)\n",
    "print(\"rmse:\", np.sqrt(esq/4))"
   ]
  },
  {
   "cell_type": "markdown",
   "id": "32699b50",
   "metadata": {},
   "source": [
    "### Q3. d"
   ]
  },
  {
   "cell_type": "code",
   "execution_count": 116,
   "id": "69ae6695",
   "metadata": {},
   "outputs": [],
   "source": [
    "## generating multivariate normal samples\n",
    "N = 100\n",
    "mean_vals = [2, 3]\n",
    "covar_mat = [\n",
    "    [3,0],\n",
    "    [0,3]\n",
    "    \n",
    "]"
   ]
  },
  {
   "cell_type": "code",
   "execution_count": 117,
   "id": "c89ccceb",
   "metadata": {},
   "outputs": [
    {
     "data": {
      "text/plain": [
       "(100, 2)"
      ]
     },
     "execution_count": 117,
     "metadata": {},
     "output_type": "execute_result"
    }
   ],
   "source": [
    "##generate samples\n",
    "samples = np.random.multivariate_normal(mean_vals, covar_mat, N)\n",
    "samples.shape"
   ]
  },
  {
   "cell_type": "code",
   "execution_count": 118,
   "id": "f2d10296",
   "metadata": {},
   "outputs": [
    {
     "data": {
      "text/plain": [
       "(100, 2)"
      ]
     },
     "execution_count": 118,
     "metadata": {},
     "output_type": "execute_result"
    }
   ],
   "source": [
    "##centralizing sample\n",
    "s_cent = centralize(samples)\n",
    "s_cent.shape"
   ]
  },
  {
   "cell_type": "code",
   "execution_count": 119,
   "id": "fbacb103",
   "metadata": {},
   "outputs": [
    {
     "data": {
      "text/plain": [
       "(2, 2)"
      ]
     },
     "execution_count": 119,
     "metadata": {},
     "output_type": "execute_result"
    }
   ],
   "source": [
    "mat_cov = np.cov(s_cent.transpose())\n",
    "mat_cov.shape"
   ]
  },
  {
   "cell_type": "code",
   "execution_count": 120,
   "id": "40616bb1",
   "metadata": {},
   "outputs": [],
   "source": [
    "##U --> eigen vectors\n",
    "E = eigen(mat_cov)"
   ]
  },
  {
   "cell_type": "code",
   "execution_count": 121,
   "id": "33a0b820",
   "metadata": {},
   "outputs": [],
   "source": [
    "##tuple unpacking\n",
    "egvals, U = E"
   ]
  },
  {
   "cell_type": "code",
   "execution_count": 122,
   "id": "d6260825",
   "metadata": {},
   "outputs": [
    {
     "data": {
      "text/plain": [
       "(2, 2)"
      ]
     },
     "execution_count": 122,
     "metadata": {},
     "output_type": "execute_result"
    }
   ],
   "source": [
    "##Y =U'X\n",
    "##encoding has been done\n",
    "Y = np.matmul(s_cent, U.T)\n",
    "Y.shape\n",
    "U.shape"
   ]
  },
  {
   "cell_type": "code",
   "execution_count": 123,
   "id": "47358050",
   "metadata": {},
   "outputs": [
    {
     "name": "stdout",
     "output_type": "stream",
     "text": [
      "Mean Vector is:\n",
      "[1.98782199 2.71400647]\n"
     ]
    }
   ],
   "source": [
    "##UY + mean(X)\n",
    "mean_vec =  np.mean(samples.transpose(), axis = 1)\n",
    "print(\"Mean Vector is:\")\n",
    "print(mean_vec)\n",
    "\n"
   ]
  },
  {
   "cell_type": "code",
   "execution_count": 124,
   "id": "ea3f6152",
   "metadata": {},
   "outputs": [],
   "source": [
    "D = np.matmul(Y,U)+mean_vec"
   ]
  },
  {
   "cell_type": "code",
   "execution_count": 125,
   "id": "1f879816",
   "metadata": {},
   "outputs": [
    {
     "name": "stdout",
     "output_type": "stream",
     "text": [
      "MSE: 0.08000000000000002\n",
      "rmse: 0.28284271247461906\n"
     ]
    }
   ],
   "source": [
    "##MSE calculation for the gaussian\n",
    "esq = 0\n",
    "for r in range(len(P)):\n",
    "    for c in range(len(P)):\n",
    "        e = P[r][c]-X[r][c]\n",
    "        esq += e**2\n",
    "print(\"MSE:\", esq/N)\n",
    "print(\"rmse:\", np.sqrt(esq/N))"
   ]
  }
 ],
 "metadata": {
  "kernelspec": {
   "display_name": "Python 3 (ipykernel)",
   "language": "python",
   "name": "python3"
  },
  "language_info": {
   "codemirror_mode": {
    "name": "ipython",
    "version": 3
   },
   "file_extension": ".py",
   "mimetype": "text/x-python",
   "name": "python",
   "nbconvert_exporter": "python",
   "pygments_lexer": "ipython3",
   "version": "3.8.8"
  }
 },
 "nbformat": 4,
 "nbformat_minor": 5
}
