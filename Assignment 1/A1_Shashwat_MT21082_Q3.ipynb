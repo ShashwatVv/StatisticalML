{
 "cells": [
  {
   "cell_type": "markdown",
   "id": "a4a42d86",
   "metadata": {},
   "source": [
    "### Q3 B\n",
    "### `Shashwat Vaibhav`\n",
    "###  `MT21082`"
   ]
  },
  {
   "cell_type": "markdown",
   "id": "bf759b66",
   "metadata": {},
   "source": [
    "${P(x|\\omega_1) = \\frac{1}{\\pi b} \\frac{1}{1+(\\frac{x-a_1}{b})^2}}$"
   ]
  },
  {
   "cell_type": "code",
   "execution_count": 1,
   "id": "addb113b",
   "metadata": {},
   "outputs": [
    {
     "name": "stdout",
     "output_type": "stream",
     "text": [
      "Necessary modules have been imported successfully!\n"
     ]
    }
   ],
   "source": [
    "## Let's import the libraries \n",
    "import numpy as np\n",
    "import matplotlib.pyplot as plt\n",
    "print(\"Necessary modules have been imported successfully!\")"
   ]
  },
  {
   "cell_type": "code",
   "execution_count": 7,
   "id": "eb82ea3f",
   "metadata": {},
   "outputs": [],
   "source": [
    "## Let's create a generic function that \n",
    "## evaluates P(x|wi) for given x, ai and b\n",
    "\n",
    "def cond_prob(x, a, b=1):\n",
    "    ## the default parameter b has been set to 1\n",
    "    ## as mentioned in the question\n",
    "    \n",
    "    part1 = 1/(b * np.pi)\n",
    "    \n",
    "    den = ((x-a)/b)**2 + 1\n",
    "    \n",
    "    part2 = 1/den\n",
    "    \n",
    "    result = part1 * part2\n",
    "    \n",
    "    return result    "
   ]
  },
  {
   "cell_type": "code",
   "execution_count": 14,
   "id": "e1d584b8",
   "metadata": {},
   "outputs": [
    {
     "name": "stdout",
     "output_type": "stream",
     "text": [
      "[-40.         -39.19191919 -38.38383838 -37.57575758 -36.76767677\n",
      " -35.95959596 -35.15151515 -34.34343434 -33.53535354 -32.72727273\n",
      " -31.91919192 -31.11111111 -30.3030303  -29.49494949 -28.68686869\n",
      " -27.87878788 -27.07070707 -26.26262626 -25.45454545 -24.64646465\n",
      " -23.83838384 -23.03030303 -22.22222222 -21.41414141 -20.60606061\n",
      " -19.7979798  -18.98989899 -18.18181818 -17.37373737 -16.56565657\n",
      " -15.75757576 -14.94949495 -14.14141414 -13.33333333 -12.52525253\n",
      " -11.71717172 -10.90909091 -10.1010101   -9.29292929  -8.48484848\n",
      "  -7.67676768  -6.86868687  -6.06060606  -5.25252525  -4.44444444\n",
      "  -3.63636364  -2.82828283  -2.02020202  -1.21212121  -0.4040404\n",
      "   0.4040404    1.21212121   2.02020202   2.82828283   3.63636364\n",
      "   4.44444444   5.25252525   6.06060606   6.86868687   7.67676768\n",
      "   8.48484848   9.29292929  10.1010101   10.90909091  11.71717172\n",
      "  12.52525253  13.33333333  14.14141414  14.94949495  15.75757576\n",
      "  16.56565657  17.37373737  18.18181818  18.98989899  19.7979798\n",
      "  20.60606061  21.41414141  22.22222222  23.03030303  23.83838384\n",
      "  24.64646465  25.45454545  26.26262626  27.07070707  27.87878788\n",
      "  28.68686869  29.49494949  30.3030303   31.11111111  31.91919192\n",
      "  32.72727273  33.53535354  34.34343434  35.15151515  35.95959596\n",
      "  36.76767677  37.57575758  38.38383838  39.19191919  40.        ]\n"
     ]
    }
   ],
   "source": [
    "## To find p(w1|x), we need p(x|w1) and p(x|w2) \n",
    "\n",
    "## First sample a list of values for x axis\n",
    "## We will store linearly spaced values between -20 and 20\n",
    "\n",
    "X= np.linspace(-40, 40, 100)\n",
    "print(X)"
   ]
  },
  {
   "cell_type": "markdown",
   "id": "9ce1c720",
   "metadata": {},
   "source": [
    "For the sake of simplicity, Let's assume a variable `pagb` denotes probability of a given b, i.e, p(a|b) "
   ]
  },
  {
   "cell_type": "code",
   "execution_count": 15,
   "id": "ee409b74",
   "metadata": {},
   "outputs": [],
   "source": [
    "def pw1gx(x):\n",
    "    var1 = cond_prob(x, 3) ##a1 =3 given in the question\n",
    "    var2 = var1 + cond_prob(x, 5)##a2 = 5 given in the question\n",
    "    \n",
    "    return var1/var2"
   ]
  },
  {
   "cell_type": "code",
   "execution_count": 16,
   "id": "a7e51d74",
   "metadata": {},
   "outputs": [],
   "source": [
    "## Let's store some Y values for every X values\n",
    "## using our old friend List Comprehension\n",
    "\n",
    "Y = [pw1gx(x_val) for x_val in X]"
   ]
  },
  {
   "cell_type": "code",
   "execution_count": 17,
   "id": "43ab1cce",
   "metadata": {},
   "outputs": [
    {
     "data": {
      "text/plain": [
       "Text(0.5, 1.0, 'P(w1|x) vs x')"
      ]
     },
     "execution_count": 17,
     "metadata": {},
     "output_type": "execute_result"
    },
    {
     "data": {
      "image/png": "[encoded data removed]",
      "text/plain": [
       "<Figure size 860x430 with 1 Axes>"
      ]
     },
     "metadata": {
      "needs_background": "light"
     },
     "output_type": "display_data"
    }
   ],
   "source": [
    "## Let's  plot it now\n",
    "\n",
    "size = (10, 5)\n",
    "plt.figure(figsize=size, dpi=86)\n",
    "\n",
    "plt.plot(X, Y, 'r')\n",
    "plt.title('P(w1|x) vs x')"
   ]
  },
  {
   "cell_type": "code",
   "execution_count": null,
   "id": "2d1a03a0",
   "metadata": {},
   "outputs": [],
   "source": []
  }
 ],
 "metadata": {
  "kernelspec": {
   "display_name": "Python 3 (ipykernel)",
   "language": "python",
   "name": "python3"
  },
  "language_info": {
   "codemirror_mode": {
    "name": "ipython",
    "version": 3
   },
   "file_extension": ".py",
   "mimetype": "text/x-python",
   "name": "python",
   "nbconvert_exporter": "python",
   "pygments_lexer": "ipython3",
   "version": "3.8.8"
  }
 },
 "nbformat": 4,
 "nbformat_minor": 5
}
